{
  "nbformat": 4,
  "nbformat_minor": 0,
  "metadata": {
    "colab": {
      "provenance": [],
      "collapsed_sections": [],
      "authorship_tag": "ABX9TyOTRdSgdYN5UAQAcvYL+iUo",
      "include_colab_link": true
    },
    "kernelspec": {
      "name": "python3",
      "display_name": "Python 3"
    },
    "language_info": {
      "name": "python"
    }
  },
  "cells": [
    {
      "cell_type": "markdown",
      "metadata": {
        "id": "view-in-github",
        "colab_type": "text"
      },
      "source": [
        "<a href=\"https://colab.research.google.com/github/starkjones/US-Housing-Predictions-w-FRED-/blob/main/US_Housing.ipynb\" target=\"_parent\"><img src=\"https://colab.research.google.com/assets/colab-badge.svg\" alt=\"Open In Colab\"/></a>"
      ]
    },
    {
      "cell_type": "markdown",
      "source": [
        "# ***Data Dictionary***\n",
        "\n",
        "***Data from U.S. Department of Housing and Urband Development and FRED (Federal Reserve Economic Database)***\n",
        "\n",
        "***DATE***: Month of year\n",
        "\n",
        "***ASP_NHS***: Average Sales Price for New Houses (Thousands) Sold in the United States, Dollars, Monthly, Not Seasonally Adjusted - Economic Research Division Federal Reserve of St. Louis\n",
        "\n",
        "***MSP_NHS***: Median Sales Price for New Houses (Thousands) Sold in the United States, Dollars, Monthly, Not Seasonally Adjusted - Economic Research Division Federal Reserve of St. Louis\n",
        "  NOFHS: \n",
        "\n",
        "***HOUST***: New Privately-Owned Housing Units Started: Total Units\n",
        "U.S. Census Bureau, U.S. Department of Housing and Urban Development\n",
        "\n",
        "***UND_CONSTR***: New Privately-Owned Housing Units Under Construction: Total Units\n",
        "U.S. Census Bureau, U.S. Department of Housing and Urban Development\n",
        "\n",
        "***SNMH_(NSA)***: Shipments of New Manufactured Homes Not Seasonally Adjusted (Thousands)\n",
        "\n",
        "***SNMH_(SI)***:Shipments of New Manufactured Homes Seasonally Index (Thousands)\n",
        "\n",
        "***SNMH_(AAR)***:Shipments of New Manufactured Homes Adjsuted Annual Rate (Thousands)\n",
        "\n",
        "***SPCS_US_NHPI***:\n",
        "\n",
        "***M1SL***: M1 = the most liquid assests in the US money supply (cash, checking accounts, demand deposits and OCDs, Billions of Dollars, Seasonally Adjusted - Board of Governors of the Federal Reserve System (US)\n",
        "\n",
        "***M2SL***: M2 = all components of M2 plus small denomination tiem deposits (<=100,000), savings deposits, and retial MMFs.\n",
        "Billions of Dollars, Seasonally Adjusted - Board of Governors of the Federal Reserve System (US)\n",
        "\n",
        "***TOTAL_CON_CREDIT***: Total Consumer Credit\n",
        "Billions of Dollars, Seasonally Adjusted\n",
        "Total Consumer Credit Owned and Securitized\n",
        "Board of Governors of the Federal Reserve System (US)\n",
        "\n",
        "***COM_IMD_LOANS***:Billions of U.S. Dollars, Seasonally Adjusted\n",
        "Commercial and Industrial Loans, All Commercial Banks\n",
        "Board of Governors of the Federal Reserve System (US)\n",
        "\n",
        "***POPULATION***:\n",
        "\n",
        "***FED_FUND_RATE***:Federal Funds Effective Rate\t\t\n",
        "Board of Governors of the Federal Reserve System (US)\n",
        "\n",
        "***UNEMPLOYMENT_RATE***:Unemployment Rate \n",
        "- U.S. Bureau of Labor Statistics\n",
        "\n",
        "GOODS_PRODUCING:\n",
        "\n",
        "***LW_AUTO_SALES***:\n",
        "\n",
        "***CPI_AUC***:Consumer Price Index for All Urban Consumers: All Items in U.S. City Average\n",
        "-U.S. Bureau of Labor Statistics\n",
        "\n",
        "\n",
        "***CPI_AUC_FD***:Consumer Price Index for All Urban Consumers: Food in U.S. City Average\n",
        "-U.S. Bureau of Labor Statistics\n",
        "\n",
        "\n",
        "***CPI_AUC_USE***:Consumer Price Index for All Urban Consumers: Energy in U.S. City Average\n",
        "-U.S. Bureau of Labor Statistics\n",
        "\n",
        "***WTI_COP***:Crude Oil Prices: West Texas Intermediate (WTI) - Cushing, Oklahoma\n",
        "-U.S. Energy Information Administration\n"
      ],
      "metadata": {
        "id": "U4dRMca6Gwh_"
      }
    },
    {
      "cell_type": "code",
      "execution_count": null,
      "metadata": {
        "id": "LQmIrL-MgpOp"
      },
      "outputs": [],
      "source": [
        "# Mount google drive:\n",
        "\n",
        "from google.colab import drive\n",
        "drive.mount('/content/drive')"
      ]
    },
    {
      "cell_type": "code",
      "source": [
        "# Import libraries:\n",
        "\n",
        "import pandas as pd\n",
        "import numpy as np"
      ],
      "metadata": {
        "id": "Qmxw3bnSlOlO"
      },
      "execution_count": null,
      "outputs": []
    },
    {
      "cell_type": "code",
      "source": [
        "# Load training data:\n",
        "\n",
        "data = '/content/drive/MyDrive/SI/US Housing Machine Learning Data_220830.xlsx'\n",
        "\n",
        "df = pd.read_excel(data)\n",
        "\n",
        "df.head()"
      ],
      "metadata": {
        "id": "5320DFJkj_ej"
      },
      "execution_count": null,
      "outputs": []
    },
    {
      "cell_type": "code",
      "source": [
        "# Data Frame size / shape:\n",
        "\n",
        "df.shape"
      ],
      "metadata": {
        "id": "IliIyKUaHcwk"
      },
      "execution_count": null,
      "outputs": []
    },
    {
      "cell_type": "code",
      "source": [
        "# Check for duplicated rows:\n",
        "\n",
        "df.duplicated().sum()"
      ],
      "metadata": {
        "id": "dTjes6L8n-sU"
      },
      "execution_count": null,
      "outputs": []
    },
    {
      "cell_type": "code",
      "source": [
        " # Check for missing values:\n",
        "\n",
        " df.isna().sum()"
      ],
      "metadata": {
        "id": "5l_-kv4vllHE"
      },
      "execution_count": null,
      "outputs": []
    },
    {
      "cell_type": "code",
      "source": [
        "# Imputation:\n",
        "\n",
        "df['SPCS_US_NHPI'].fillna(method='ffill', inplace = True)\n",
        "df['MORTGAGE15'].fillna(method='ffill', inplace = True)\n"
      ],
      "metadata": {
        "id": "KA4h4A0Vm7cP"
      },
      "execution_count": null,
      "outputs": []
    },
    {
      "cell_type": "code",
      "source": [
        "# Check to ensure that missing values are removed:\n",
        "\n",
        "df.isna().sum()"
      ],
      "metadata": {
        "id": "WwZd7oLUnYgz"
      },
      "execution_count": null,
      "outputs": []
    },
    {
      "cell_type": "code",
      "source": [
        "# Check column datatypes:\n",
        "\n",
        "df.info()"
      ],
      "metadata": {
        "id": "HngEFCKroICI"
      },
      "execution_count": null,
      "outputs": []
    },
    {
      "cell_type": "code",
      "source": [
        "# # Checking value names in object columns for inconsistencies:\n",
        "\n",
        "# datatypes = df.dtypes\n",
        "# object_columns = datatypes[datatypes =='object'].index\n",
        "# object_columns\n",
        "\n",
        "# for column in object_columns:\n",
        "#   print(f'Column Name = {column}')\n",
        "#   print('\\n')\n",
        "#   print(df[column].value_counts(dropna=False))\n",
        "#   print('\\n\\n')"
      ],
      "metadata": {
        "id": "RQ3PM1VyFil2"
      },
      "execution_count": null,
      "outputs": []
    },
    {
      "cell_type": "code",
      "source": [
        "df['SPCS_US_NHPI'].value_counts()"
      ],
      "metadata": {
        "id": "wnltk7VDIrCv"
      },
      "execution_count": null,
      "outputs": []
    },
    {
      "cell_type": "code",
      "source": [
        "# Correcting Data Types:\n",
        "\n",
        "df['SPCS_US_NHPI'] = pd.to_numeric(df['SPCS_US_NHPI'])\n",
        "\n",
        "df['SPCS_US_NHPI']"
      ],
      "metadata": {
        "id": "yNRTqKZtFy-X"
      },
      "execution_count": null,
      "outputs": []
    },
    {
      "cell_type": "code",
      "source": [
        "# dtype check:\n",
        "\n",
        "df.info()"
      ],
      "metadata": {
        "id": "MJGLZDoPJi0N"
      },
      "execution_count": null,
      "outputs": []
    },
    {
      "cell_type": "code",
      "source": [
        "# Check for numeric annomalies: \n",
        "\n",
        "df.describe().round(1)"
      ],
      "metadata": {
        "id": "vYjHF8MXpJMw"
      },
      "execution_count": null,
      "outputs": []
    },
    {
      "cell_type": "code",
      "source": [
        "# Import ibraries for Visual Analysis:\n",
        "\n",
        "import matplotlib.pyplot as plt\n",
        "import seaborn as sns"
      ],
      "metadata": {
        "id": "upDbkYsqyY8p"
      },
      "execution_count": null,
      "outputs": []
    },
    {
      "cell_type": "code",
      "source": [
        "correlation = df.corr().round(2)\n",
        "c_list = correlation.unstack().sort_values(ascending = False)\n",
        "\n",
        "# for i in enumerate(c_list):\n",
        "#   if i == 1.00:\n",
        "#     'ignore'\n",
        "#   else:\n",
        "#     i == 1\n",
        "#     print(i, column, column)\n",
        "#     print('\\n')\n",
        "\n",
        "c_list.head(40)"
      ],
      "metadata": {
        "id": "maIm0nXczK_c"
      },
      "execution_count": null,
      "outputs": []
    },
    {
      "cell_type": "code",
      "source": [
        "for i in enumerate(c_list):\n",
        "  if i == 1.00:\n",
        "    'ignore'\n",
        "  elif 0.5 < i < 1:\n",
        "    print(i, column, column)\n",
        "    print('\\n')\n",
        "  elif -1.00 < i < -.50:\n",
        "    print(i, column, column)\n",
        "  else:\n",
        "    'ignore'\n"
      ],
      "metadata": {
        "id": "23NnG0UZ8Nu-"
      },
      "execution_count": null,
      "outputs": []
    },
    {
      "cell_type": "code",
      "source": [
        "# Correlation heatmap soto identify correlated features:\n",
        "\n",
        "fig, hm = plt.subplots(nrows=1, ncols =1, figsize=(18,18));\n",
        "hm = sns.heatmap(correlation, cmap='rocket_r', annot=True);\n",
        "hm.set_title('Correlation Heatmap\\n', fontsize= 24);"
      ],
      "metadata": {
        "id": "wcQ1ecI5yW2u"
      },
      "execution_count": null,
      "outputs": []
    }
  ]
}